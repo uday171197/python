{
 "cells": [
  {
   "cell_type": "code",
   "execution_count": 1,
   "metadata": {},
   "outputs": [
    {
     "name": "stdout",
     "output_type": "stream",
     "text": [
      "hello students\n"
     ]
    }
   ],
   "source": [
    "class classroom:\n",
    "    name=\"hello students\"\n",
    "b=classroom()\n",
    "print(b.name)"
   ]
  },
  {
   "cell_type": "code",
   "execution_count": 5,
   "metadata": {},
   "outputs": [
    {
     "name": "stdout",
     "output_type": "stream",
     "text": [
      "my name is uday gupta\n"
     ]
    }
   ],
   "source": [
    "class school:\n",
    "    def student(self,name):\n",
    "        print(\"my name is \"+name)\n",
    "w=school()\n",
    "w.student(\"uday gupta\")"
   ]
  },
  {
   "cell_type": "code",
   "execution_count": 6,
   "metadata": {},
   "outputs": [
    {
     "name": "stdout",
     "output_type": "stream",
     "text": [
      "Uday Gupta\n",
      "825\n"
     ]
    }
   ],
   "source": [
    "class school:\n",
    "    def __init__(self,name,rollno):\n",
    "        self.name=name\n",
    "        self.rollno=rollno\n",
    "w=school(\"Uday Gupta\",825)\n",
    "print(w.name)\n",
    "print(w.rollno)"
   ]
  },
  {
   "cell_type": "code",
   "execution_count": 7,
   "metadata": {},
   "outputs": [
    {
     "name": "stdout",
     "output_type": "stream",
     "text": [
      "uday\n",
      "A\n",
      "suraj\n",
      "A\n"
     ]
    }
   ],
   "source": [
    "#local variable and gloable variable\n",
    "class student:\n",
    "    div='A'\n",
    "    def __init__(self,name):\n",
    "        self.name=name\n",
    "w=student(\"uday\")\n",
    "e=student(\"suraj\")\n",
    "print(w.name)\n",
    "print(w.div)\n",
    "print(e.name)\n",
    "print(e.div)"
   ]
  },
  {
   "cell_type": "code",
   "execution_count": 12,
   "metadata": {},
   "outputs": [
    {
     "name": "stdout",
     "output_type": "stream",
     "text": [
      "udayyanis reached to the distancein atmostphare\n",
      "None\n",
      "mars roveris reached to the distancesky\n",
      "None\n",
      "mars roveris made by uday gupta\n",
      "None\n"
     ]
    }
   ],
   "source": [
    "#inheritance\n",
    "class rocket:\n",
    "    def __init__(self,name,distance):\n",
    "        self.name=name\n",
    "        self.distance=distance\n",
    "    def launched(self):\n",
    "        print(self.name+\"is reached to the distance\"+self.distance)\n",
    "class marsRocket(rocket):\n",
    "    def __init__(self,name,distance,maker):\n",
    "        rocket.__init__(self,name,distance)\n",
    "        self.maker=maker\n",
    "    def get_maker(self):\n",
    "        print(self.name+\"is made by \"+self.maker)\n",
    "if __name__==\"__main__\":\n",
    "    x=rocket(\"udayyan\",\"in atmostphare\")\n",
    "    print(x.launched())\n",
    "    y=marsRocket('mars rover',\"sky\",'uday gupta')\n",
    "    print(y.launched())\n",
    "    print(y.get_maker())\n",
    "    "
   ]
  },
  {
   "cell_type": "code",
   "execution_count": 16,
   "metadata": {},
   "outputs": [
    {
     "name": "stdout",
     "output_type": "stream",
     "text": [
      "this is im try catch\n",
      "this is in exception\n",
      "this is in finally\n"
     ]
    }
   ],
   "source": [
    "try:\n",
    "    print(\"this is im try catch\")\n",
    "    print(10/0)\n",
    "    print(\"this is im try catch\")\n",
    "except:\n",
    "    print(\"this is in exception\")\n",
    "finally:\n",
    "    print(\"this is in finally\")"
   ]
  },
  {
   "cell_type": "code",
   "execution_count": null,
   "metadata": {},
   "outputs": [],
   "source": [
    "while True:\n",
    "    try:\n",
    "        a=int(input())\n",
    "        if a<0:\n",
    "            raise ValueError(\"please give positive number\") \n",
    "        else:\n",
    "            print(a)\n",
    "    except ValueError as e:\n",
    "        print(e)\n",
    "        \n",
    "        "
   ]
  },
  {
   "cell_type": "code",
   "execution_count": null,
   "metadata": {},
   "outputs": [],
   "source": [
    "class stack{\n",
    "    def __init__(self,maxsize):\n",
    "    self.maxsize=maxsize\n",
    "    self.data=[]\n",
    "    \n",
    "    def isEmpty(self):\n",
    "          if len(self.data)==0:\n",
    "             print(\"the stack is empty\")\n",
    "    \n",
    "    def isFull(self):\n",
    "          if len(self.data)==self.maxsize:\n",
    "             print(\"the stack is full\")\n",
    "    \n",
    "    def push(self,data):\n",
    "        if self.isFull():\n",
    "            print(\"can not space\")\n",
    "        else:\n",
    "            self.data.append(data)\n",
    "            print(self.data)\n",
    "    \n",
    "    def pop(self):\n",
    "        if self.ifEmpty():\n",
    "        print(\"the stack is empty\")\n",
    "        else:\n",
    "            r=self.data.remove(data[len(self.data)-1])\n",
    "            print(r)\n",
    "    \n",
    "           \n",
    "            \n",
    "              \n",
    "}"
   ]
  }
 ],
 "metadata": {
  "kernelspec": {
   "display_name": "Python 3",
   "language": "python",
   "name": "python3"
  },
  "language_info": {
   "codemirror_mode": {
    "name": "ipython",
    "version": 3
   },
   "file_extension": ".py",
   "mimetype": "text/x-python",
   "name": "python",
   "nbconvert_exporter": "python",
   "pygments_lexer": "ipython3",
   "version": "3.7.1"
  }
 },
 "nbformat": 4,
 "nbformat_minor": 2
}
